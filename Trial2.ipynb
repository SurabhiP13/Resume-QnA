{
 "cells": [
  {
   "cell_type": "code",
   "execution_count": 1,
   "id": "89b44aca",
   "metadata": {},
   "outputs": [],
   "source": [
    "import os\n",
    "import shutil\n",
    "from langchain.document_loaders.pdf import PyPDFDirectoryLoader\n",
    "from langchain_text_splitters import RecursiveCharacterTextSplitter, MarkdownHeaderTextSplitter\n",
    "from langchain.schema.document import Document\n",
    "from langchain.vectorstores.chroma import Chroma\n",
    "from langchain_community.embeddings.ollama import OllamaEmbeddings\n",
    "\n",
    "# Constants\n",
    "CHROMA_PATH = \"chroma\"\n",
    "DATA_PATH = \"Data\"\n"
   ]
  },
  {
   "cell_type": "code",
   "execution_count": 2,
   "id": "fa99e75b",
   "metadata": {},
   "outputs": [],
   "source": [
    "# from langchain.vectorstores.chroma import Chroma\n",
    "from langchain.prompts import ChatPromptTemplate\n",
    "from langchain_community.llms.ollama import Ollama\n",
    "from langchain_community.embeddings.ollama import OllamaEmbeddings"
   ]
  },
  {
   "cell_type": "code",
   "execution_count": 3,
   "id": "d3c68603",
   "metadata": {},
   "outputs": [],
   "source": [
    "def get_embedding_function():\n",
    "    return OllamaEmbeddings(model=\"nomic-embed-text\")\n"
   ]
  },
  {
   "cell_type": "code",
   "execution_count": 4,
   "id": "bb8165bc",
   "metadata": {},
   "outputs": [
    {
     "name": "stdout",
     "output_type": "stream",
     "text": [
      "📚 Loaded 3 documents\n"
     ]
    }
   ],
   "source": [
    "# def load_documents():\n",
    "#     document_loader = PyPDFDirectoryLoader(DATA_PATH)\n",
    "#     return document_loader.load()\n",
    "\n",
    "\n",
    "# #ADD maybe like o\n",
    "# documents = load_documents()\n",
    "# print(f\"📚 Loaded {len(documents)} documents\")\n",
    "\n",
    "\n",
    "def load_documents():\n",
    "    loader = PyPDFDirectoryLoader(DATA_PATH)\n",
    "    docs = loader.load()\n",
    "    for doc in docs:\n",
    "        filename = os.path.basename(doc.metadata.get(\"source\", \"unknown.pdf\"))\n",
    "        doc.metadata[\"resume_id\"] = filename  # Tag each document with its filename\n",
    "    return docs\n",
    "\n",
    "documents = load_documents()\n",
    "print(f\"📚 Loaded {len(documents)} documents\")"
   ]
  },
  {
   "cell_type": "code",
   "execution_count": 5,
   "id": "6b275b7e",
   "metadata": {},
   "outputs": [
    {
     "name": "stdout",
     "output_type": "stream",
     "text": [
      "✂️ Total Chunks: 18\n"
     ]
    }
   ],
   "source": [
    "# def split_documents(documents: list[Document]):\n",
    "#     text_splitter = RecursiveCharacterTextSplitter(\n",
    "#         chunk_size=800,\n",
    "#         chunk_overlap=80,\n",
    "#         length_function=len,\n",
    "#         is_separator_regex=False,\n",
    "#     )\n",
    "#     return text_splitter.split_documents(documents)\n",
    "\n",
    "# chunks = split_documents(documents)\n",
    "# print(f\"✂️ Total Chunks: {len(chunks)}\")\n",
    "\n",
    "# 2. Split documents and retain metadata\n",
    "def split_documents(documents: list[Document]):\n",
    "    text_splitter = RecursiveCharacterTextSplitter(\n",
    "        chunk_size=800,\n",
    "        chunk_overlap=80,\n",
    "        length_function=len,\n",
    "        is_separator_regex=False,\n",
    "    )\n",
    "    chunks = text_splitter.split_documents(documents)\n",
    "\n",
    "    for chunk in chunks:\n",
    "        # Carry over resume ID and source\n",
    "        chunk.metadata[\"resume_id\"] = chunk.metadata.get(\"resume_id\") or chunk.metadata.get(\"source\")\n",
    "\n",
    "    return chunks\n",
    "\n",
    "\n",
    "chunks = split_documents(documents)\n",
    "print(f\"✂️ Total Chunks: {len(chunks)}\")\n",
    "\n",
    "\n"
   ]
  },
  {
   "cell_type": "code",
   "execution_count": 6,
   "id": "6db4cbda",
   "metadata": {},
   "outputs": [],
   "source": [
    "def calculate_chunk_ids(chunks):\n",
    "    last_page_id = None\n",
    "    current_chunk_index = 0\n",
    "\n",
    "    # for chunk in chunks:\n",
    "    #     source = chunk.metadata.get(\"source\")\n",
    "    #     page = chunk.metadata.get(\"page\")\n",
    "    #     current_page_id = f\"{source}:{page}\"\n",
    "\n",
    "    for chunk in chunks:\n",
    "        source = chunk.metadata.get(\"resume_id\", \"unknown\")\n",
    "        page = chunk.metadata.get(\"page\", 0)\n",
    "        current_page_id = f\"{source}:{page}\"\n",
    "\n",
    "        if current_page_id == last_page_id:\n",
    "            current_chunk_index += 1\n",
    "        else:\n",
    "            current_chunk_index = 0\n",
    "\n",
    "        chunk_id = f\"{current_page_id}:{current_chunk_index}\"\n",
    "        last_page_id = current_page_id\n",
    "        chunk.metadata[\"id\"] = chunk_id\n",
    "\n",
    "    return chunks\n",
    "\n",
    "chunks_with_ids = calculate_chunk_ids(chunks)\n"
   ]
  },
  {
   "cell_type": "code",
   "execution_count": 7,
   "id": "59be3b4d",
   "metadata": {},
   "outputs": [
    {
     "name": "stdout",
     "output_type": "stream",
     "text": [
      "📦 Existing items in DB: 18\n",
      "✅ No new documents to add\n"
     ]
    }
   ],
   "source": [
    "embedding_fn = get_embedding_function()\n",
    "db = Chroma(persist_directory=CHROMA_PATH, embedding_function=embedding_fn)\n",
    "\n",
    "existing_items = db.get(include=[])\n",
    "existing_ids = set(existing_items[\"ids\"])\n",
    "print(f\"📦 Existing items in DB: {len(existing_ids)}\")\n",
    "\n",
    "new_chunks = [chunk for chunk in chunks_with_ids if chunk.metadata[\"id\"] not in existing_ids]\n",
    "\n",
    "if new_chunks:\n",
    "    print(f\"🚀 Adding {len(new_chunks)} new chunks\")\n",
    "    new_chunk_ids = [chunk.metadata[\"id\"] for chunk in new_chunks]\n",
    "    db.add_documents(new_chunks, ids=new_chunk_ids)\n",
    "    db.persist()\n",
    "else:\n",
    "    print(\"✅ No new documents to add\")\n"
   ]
  },
  {
   "cell_type": "code",
   "execution_count": 8,
   "id": "0cee1742",
   "metadata": {},
   "outputs": [],
   "source": [
    "# def format_context_with_resume_ids(results):\n",
    "#     formatted_chunks = []\n",
    "#     for doc, score in results:\n",
    "#         resume_id = doc.metadata.get(\"resume_id\", \"unknown\")\n",
    "#         formatted_chunk = f\"[RESUME: {resume_id}]\\n{doc.page_content}\\n[END RESUME: {resume_id}]\"\n",
    "#         formatted_chunks.append(formatted_chunk)\n",
    "#     return \"\\n\\n\".join(formatted_chunks)\n",
    "\n"
   ]
  },
  {
   "cell_type": "code",
   "execution_count": 9,
   "id": "a54b49db",
   "metadata": {},
   "outputs": [],
   "source": [
    "def group_chunks_by_resume(results):\n",
    "    resume_groups = {}\n",
    "    for doc, score in results:\n",
    "        resume_id = doc.metadata.get(\"resume_id\", \"unknown\")\n",
    "        if resume_id not in resume_groups:\n",
    "            resume_groups[resume_id] = []\n",
    "        resume_groups[resume_id].append((doc, score))\n",
    "    \n",
    "    # Format the context with resume groups\n",
    "    formatted_context = []\n",
    "    for resume_id, chunks in resume_groups.items():\n",
    "        resume_content = f\"===== RESUME: {resume_id} =====\\n\"\n",
    "        resume_content += \"\\n---\\n\".join([doc.page_content for doc, _ in chunks])\n",
    "        resume_content += f\"\\n===== END RESUME: {resume_id} =====\\n\"\n",
    "        formatted_context.append(resume_content)\n",
    "        \n",
    "    print(formatted_context)\n",
    "    return \"\\n\\n\".join(formatted_context)\n",
    "\n"
   ]
  },
  {
   "cell_type": "code",
   "execution_count": 10,
   "id": "c823cae6",
   "metadata": {},
   "outputs": [
    {
     "name": "stderr",
     "output_type": "stream",
     "text": [
      "c:\\Users\\psura\\OneDrive\\Documents\\RAG-projects\\rag-project\\rag-env\\Lib\\site-packages\\tqdm\\auto.py:21: TqdmWarning: IProgress not found. Please update jupyter and ipywidgets. See https://ipywidgets.readthedocs.io/en/stable/user_install.html\n",
      "  from .autonotebook import tqdm as notebook_tqdm\n"
     ]
    }
   ],
   "source": [
    "# If you can install sentence-transformers\n",
    "from sentence_transformers.cross_encoder import CrossEncoder\n",
    "\n",
    "def rerank_results(query, results, top_k=3):\n",
    "    model = CrossEncoder('cross-encoder/ms-marco-MiniLM-L-6-v2')\n",
    "    \n",
    "    # Prepare pairs for reranking\n",
    "    pairs = [(query, doc.page_content) for doc, _ in results]\n",
    "    \n",
    "    # Get scores\n",
    "    scores = model.predict(pairs)\n",
    "    \n",
    "    # Sort by score\n",
    "    reranked_results = [(results[i][0], scores[i]) for i in range(len(scores))]\n",
    "    reranked_results.sort(key=lambda x: x[1], reverse=True)\n",
    "    \n",
    "    return reranked_results[:top_k]"
   ]
  },
  {
   "cell_type": "code",
   "execution_count": 11,
   "id": "5a9a4172",
   "metadata": {},
   "outputs": [],
   "source": [
    "# #RUN IF YOU WANT TO CLEAR CHROMA DB----> RESTART KERNEL BEFORE RUNNING THIS COMMAND\n",
    "\n",
    "# import shutil\n",
    "# import os\n",
    "\n",
    "# CHROMA_PATH = \"chroma\"  # or wherever your DB is saved\n",
    "\n",
    "# if os.path.exists(CHROMA_PATH):\n",
    "#     shutil.rmtree(CHROMA_PATH)\n",
    "#     print(\"🧹 Chroma database cleared.\")\n",
    "# else:\n",
    "#     print(\"📁 Chroma path does not exist.\")\n"
   ]
  },
  {
   "cell_type": "markdown",
   "id": "9521593a",
   "metadata": {},
   "source": [
    "GETTING THE QUERY AND EMBEDDING IT AND STUFF"
   ]
  },
  {
   "cell_type": "code",
   "execution_count": 12,
   "id": "5125b4e6",
   "metadata": {},
   "outputs": [],
   "source": [
    "CHROMA_PATH = \"chroma\"\n",
    "PROMPT_TEMPLATE = \"\"\"\n",
    "You are a helpful assistant analyzing MULTIPLE different resumes. The information provided comes from different candidates with different work histories.\n",
    "\n",
    "Resume chunks:\n",
    "{context}\n",
    "\n",
    "---\n",
    "\n",
    "Question: {question}\n",
    "\n",
    "Important instructions:\n",
    "1. Make sure to identify WHICH specific resume/candidate contains the information requested\n",
    "2. DO NOT mix information between different resumes\n",
    "3. Clearly state which resume_id or candidate contains the information in your answer\n",
    "4. If multiple candidates match the criteria, list all of them separately\n",
    "5. If the information is not clear from the provided chunks, say so\n",
    "\"\"\"\n"
   ]
  },
  {
   "cell_type": "code",
   "execution_count": 13,
   "id": "b265ba58",
   "metadata": {},
   "outputs": [],
   "source": [
    "def query_rag(query_text: str, k: int = 8):  # Increase k for better recall\n",
    "    # Load vector store\n",
    "    embedding_function = get_embedding_function()\n",
    "    db = Chroma(persist_directory=CHROMA_PATH, embedding_function=embedding_function)\n",
    "\n",
    "    # Retrieve top-k chunks\n",
    "    results = db(query_text, k=k)\n",
    "    \n",
    "    # Group chunks by resume\n",
    "    context_text = group_chunks_by_resume(results)\n",
    "\n",
    "    # Create prompt\n",
    "    prompt = ChatPromptTemplate.from_template(PROMPT_TEMPLATE).format(\n",
    "        context=context_text, question=query_text\n",
    "    )\n",
    "\n",
    "    # Generate answer with Ollama\n",
    "    model = Ollama(model=\"mistral\")\n",
    "    response = model.invoke(prompt)\n",
    "\n",
    "    # Show sources with resume_id for better debugging\n",
    "    sources = [f\"{doc.metadata.get('resume_id', 'unknown')}:{doc.metadata.get('id', None)}\" for doc, _ in results]\n",
    "    print(f\"🧠 Response:\\n{response}\\n\\n📄 Sources: {sources}\")\n",
    "    return response"
   ]
  },
  {
   "cell_type": "code",
   "execution_count": 14,
   "id": "0c8e5bd2",
   "metadata": {},
   "outputs": [],
   "source": [
    "# # Main query function\n",
    "# def query_rag(query_text: str, k: int = 5):\n",
    "#     # Load vector store\n",
    "#     embedding_function = get_embedding_function()\n",
    "#     db = Chroma(persist_directory=CHROMA_PATH, embedding_function=embedding_function)\n",
    "\n",
    "#     # Retrieve top-k chunks\n",
    "#     results = db.similarity_search_with_score(query_text, k=k)  ##specify how many chunks\n",
    "#     context_text = \"\\n\\n---\\n\\n\".join([doc.page_content for doc, _ in results])\n",
    "\n",
    "#     # Create prompt\n",
    "#     prompt = ChatPromptTemplate.from_template(PROMPT_TEMPLATE).format(\n",
    "#         context=context_text, question=query_text\n",
    "#     )\n",
    "\n",
    "#     # Generate answer with Ollama\n",
    "#     model = Ollama(model=\"mistral\") ##change here if i want to try another ollama model, maybe for specific unstructured data!!\n",
    "#     response = model.invoke(prompt)\n",
    "\n",
    "#     # Show sources\n",
    "#     sources = [doc.metadata.get(\"id\", None) for doc, _ in results]\n",
    "#     print(f\"🧠 Response:\\n{response}\\n\\n📄 Sources: {sources}\")\n",
    "#     return response"
   ]
  },
  {
   "cell_type": "markdown",
   "id": "6e4397a9",
   "metadata": {},
   "source": [
    "This is when 3 different resumes are loaded in the Chroma DB, Sadhana's Nakshatra's and Surabhi's Resume"
   ]
  },
  {
   "cell_type": "code",
   "execution_count": 16,
   "id": "3454d913",
   "metadata": {},
   "outputs": [
    {
     "ename": "TypeError",
     "evalue": "'Chroma' object is not callable",
     "output_type": "error",
     "traceback": [
      "\u001b[31m---------------------------------------------------------------------------\u001b[39m",
      "\u001b[31mTypeError\u001b[39m                                 Traceback (most recent call last)",
      "\u001b[36mCell\u001b[39m\u001b[36m \u001b[39m\u001b[32mIn[16]\u001b[39m\u001b[32m, line 2\u001b[39m\n\u001b[32m      1\u001b[39m \u001b[38;5;66;03m##these questions are after Ive loaded all resumes\u001b[39;00m\n\u001b[32m----> \u001b[39m\u001b[32m2\u001b[39m \u001b[43mquery_rag\u001b[49m\u001b[43m(\u001b[49m\u001b[33;43m\"\u001b[39;49m\u001b[33;43mHow many unique candidate\u001b[39;49m\u001b[33;43m'\u001b[39;49m\u001b[33;43ms cvs do you have?\u001b[39;49m\u001b[33;43m\"\u001b[39;49m\u001b[43m)\u001b[49m\n",
      "\u001b[36mCell\u001b[39m\u001b[36m \u001b[39m\u001b[32mIn[13]\u001b[39m\u001b[32m, line 7\u001b[39m, in \u001b[36mquery_rag\u001b[39m\u001b[34m(query_text, k)\u001b[39m\n\u001b[32m      4\u001b[39m db = Chroma(persist_directory=CHROMA_PATH, embedding_function=embedding_function)\n\u001b[32m      6\u001b[39m \u001b[38;5;66;03m# Retrieve top-k chunks\u001b[39;00m\n\u001b[32m----> \u001b[39m\u001b[32m7\u001b[39m results = \u001b[43mdb\u001b[49m\u001b[43m(\u001b[49m\u001b[43mquery_text\u001b[49m\u001b[43m,\u001b[49m\u001b[43m \u001b[49m\u001b[43mk\u001b[49m\u001b[43m=\u001b[49m\u001b[43mk\u001b[49m\u001b[43m)\u001b[49m\n\u001b[32m      9\u001b[39m \u001b[38;5;66;03m# Group chunks by resume\u001b[39;00m\n\u001b[32m     10\u001b[39m context_text = group_chunks_by_resume(results)\n",
      "\u001b[31mTypeError\u001b[39m: 'Chroma' object is not callable"
     ]
    }
   ],
   "source": [
    "##these questions are after Ive loaded all resumes\n",
    "query_rag(\"How many unique candidate's cvs do you have?\")"
   ]
  },
  {
   "cell_type": "code",
   "execution_count": null,
   "id": "6fa331db",
   "metadata": {},
   "outputs": [
    {
     "name": "stdout",
     "output_type": "stream",
     "text": [
      "🧠 Response:\n",
      " The information requested is contained in the resume with the ID \"Sadhana_Jayakumar_Resume.pdf\". This candidate has experience in developing a full-stack productivity application using various technologies and programming languages such as ReactJS, Express.js(Node.js), Bootstrap, BackboneJS, MongoDB, Firebase, C++, C, Java, Python, JavaScript, TypeScript, Selenium, PowerMockito, Mockito, and Jest. They also have a background in Electrical and Electronics Engineering from the National Institute of Technology Karnataka with a CGPA of 8.5/10. Currently, they are working as a Software Engineer II at CISCO.\n",
      "\n",
      "📄 Sources: ['Sadhana_Jayakumar_Resume.pdf:Sadhana_Jayakumar_Resume.pdf:0:8', 'Nakshatra_Gopi_2024.pdf:Nakshatra_Gopi_2024.pdf:0:0', 'Surabhi-resume.pdf:Surabhi-resume.pdf:0:0', 'Surabhi-resume.pdf:Surabhi-resume.pdf:0:2', 'Sadhana_Jayakumar_Resume.pdf:Sadhana_Jayakumar_Resume.pdf:0:1', 'Surabhi-resume.pdf:Surabhi-resume.pdf:0:1', 'Nakshatra_Gopi_2024.pdf:Nakshatra_Gopi_2024.pdf:0:3', 'Sadhana_Jayakumar_Resume.pdf:Sadhana_Jayakumar_Resume.pdf:0:9']\n"
     ]
    },
    {
     "data": {
      "text/plain": [
       "' The information requested is contained in the resume with the ID \"Sadhana_Jayakumar_Resume.pdf\". This candidate has experience in developing a full-stack productivity application using various technologies and programming languages such as ReactJS, Express.js(Node.js), Bootstrap, BackboneJS, MongoDB, Firebase, C++, C, Java, Python, JavaScript, TypeScript, Selenium, PowerMockito, Mockito, and Jest. They also have a background in Electrical and Electronics Engineering from the National Institute of Technology Karnataka with a CGPA of 8.5/10. Currently, they are working as a Software Engineer II at CISCO.'"
      ]
     },
     "execution_count": 22,
     "metadata": {},
     "output_type": "execute_result"
    }
   ],
   "source": [
    "query_rag(\"How many resumes do you have?\") #Completely wrong response? does candidate need to be mentioned? maybe the phrasing is wrong..try generating mutliple queries for vague ones"
   ]
  },
  {
   "cell_type": "code",
   "execution_count": 18,
   "id": "382d41f4",
   "metadata": {},
   "outputs": [
    {
     "name": "stdout",
     "output_type": "stream",
     "text": [
      "🧠 Response:\n",
      " The candidate who works at Cisco is Sadhana Jayakumar. This information can be found under the \"WORK EXPERIENCE\" section in her resume with the id \"Sadhana_Jayakumar_Resume.pdf\". She is currently a Software Engineer II at CISCO, part of the Certificates Management team within Identity Services Engine (ISE).\n",
      "\n",
      "📄 Sources: ['Sadhana_Jayakumar_Resume.pdf:Sadhana_Jayakumar_Resume.pdf:0:1', 'Nakshatra_Gopi_2024.pdf:Nakshatra_Gopi_2024.pdf:0:0', 'Surabhi-resume.pdf:Surabhi-resume.pdf:0:0', 'Sadhana_Jayakumar_Resume.pdf:Sadhana_Jayakumar_Resume.pdf:0:3', 'Sadhana_Jayakumar_Resume.pdf:Sadhana_Jayakumar_Resume.pdf:0:6', 'Nakshatra_Gopi_2024.pdf:Nakshatra_Gopi_2024.pdf:0:1', 'Surabhi-resume.pdf:Surabhi-resume.pdf:0:2', 'Sadhana_Jayakumar_Resume.pdf:Sadhana_Jayakumar_Resume.pdf:0:2']\n"
     ]
    },
    {
     "data": {
      "text/plain": [
       "' The candidate who works at Cisco is Sadhana Jayakumar. This information can be found under the \"WORK EXPERIENCE\" section in her resume with the id \"Sadhana_Jayakumar_Resume.pdf\". She is currently a Software Engineer II at CISCO, part of the Certificates Management team within Identity Services Engine (ISE).'"
      ]
     },
     "execution_count": 18,
     "metadata": {},
     "output_type": "execute_result"
    }
   ],
   "source": [
    "query_rag(\"Who works at Cisco?\")"
   ]
  },
  {
   "cell_type": "code",
   "execution_count": 23,
   "id": "e2038395",
   "metadata": {},
   "outputs": [
    {
     "name": "stdout",
     "output_type": "stream",
     "text": [
      "🧠 Response:\n",
      " The candidate who has switched domains from electrical to business operations can be found in the \"Resume: Nakshatra_Gopi_2024.pdf\". In this resume, Nakshatra Gopi transitioned from an internship in the Electronics Team at TRESA Energy, where they conducted a literature survey on Battery Management technology and designed a current monitor circuit, to a Business Operations Specialist role at o9 Solutions, where they translates complex business requirements into scalable solutions for clients.\n",
      "\n",
      "📄 Sources: ['Sadhana_Jayakumar_Resume.pdf:Sadhana_Jayakumar_Resume.pdf:0:6', 'Nakshatra_Gopi_2024.pdf:Nakshatra_Gopi_2024.pdf:0:1', 'Nakshatra_Gopi_2024.pdf:Nakshatra_Gopi_2024.pdf:0:0', 'Surabhi-resume.pdf:Surabhi-resume.pdf:0:3', 'Surabhi-resume.pdf:Surabhi-resume.pdf:0:2', 'Sadhana_Jayakumar_Resume.pdf:Sadhana_Jayakumar_Resume.pdf:0:5', 'Sadhana_Jayakumar_Resume.pdf:Sadhana_Jayakumar_Resume.pdf:0:7', 'Surabhi-resume.pdf:Surabhi-resume.pdf:0:1']\n"
     ]
    },
    {
     "data": {
      "text/plain": [
       "' The candidate who has switched domains from electrical to business operations can be found in the \"Resume: Nakshatra_Gopi_2024.pdf\". In this resume, Nakshatra Gopi transitioned from an internship in the Electronics Team at TRESA Energy, where they conducted a literature survey on Battery Management technology and designed a current monitor circuit, to a Business Operations Specialist role at o9 Solutions, where they translates complex business requirements into scalable solutions for clients.'"
      ]
     },
     "execution_count": 23,
     "metadata": {},
     "output_type": "execute_result"
    }
   ],
   "source": [
    "query_rag(\"Who has switched domains from electrical to business operations?\")\n"
   ]
  },
  {
   "cell_type": "code",
   "execution_count": null,
   "id": "1a0df9bd",
   "metadata": {},
   "outputs": [
    {
     "name": "stdout",
     "output_type": "stream",
     "text": [
      "🧠 Response:\n",
      " The resume with the most experience in software development, specifically in coding and web development, is Sadhana Jayakumar (resume_id: Sadhana_Jayakumar_Resume.pdf). This is based on her work experience as a Software Engineer II at CISCO where she developed automated end-to-end systems and utilized technologies like ARIMA for anomaly detection in time series data. Additionally, she has practical coding skills in languages such as Python and SQL, and she has demonstrated expertise in web development by creating projects such as an audio fingerprinting system using Shazam's algorithm and a keypoint detection program using the David Lowe SIFT algorithm for template matching.\n",
      "\n",
      "📄 Sources: ['Sadhana_Jayakumar_Resume.pdf:Sadhana_Jayakumar_Resume.pdf:0:9', 'Surabhi-resume.pdf:Surabhi-resume.pdf:0:0', 'Sadhana_Jayakumar_Resume.pdf:Sadhana_Jayakumar_Resume.pdf:0:1', 'Nakshatra_Gopi_2024.pdf:Nakshatra_Gopi_2024.pdf:0:0', 'Sadhana_Jayakumar_Resume.pdf:Sadhana_Jayakumar_Resume.pdf:0:3', 'Nakshatra_Gopi_2024.pdf:Nakshatra_Gopi_2024.pdf:0:2', 'Surabhi-resume.pdf:Surabhi-resume.pdf:0:3', 'Sadhana_Jayakumar_Resume.pdf:Sadhana_Jayakumar_Resume.pdf:0:8']\n"
     ]
    },
    {
     "data": {
      "text/plain": [
       "\" The resume with the most experience in software development, specifically in coding and web development, is Sadhana Jayakumar (resume_id: Sadhana_Jayakumar_Resume.pdf). This is based on her work experience as a Software Engineer II at CISCO where she developed automated end-to-end systems and utilized technologies like ARIMA for anomaly detection in time series data. Additionally, she has practical coding skills in languages such as Python and SQL, and she has demonstrated expertise in web development by creating projects such as an audio fingerprinting system using Shazam's algorithm and a keypoint detection program using the David Lowe SIFT algorithm for template matching.\""
      ]
     },
     "execution_count": 24,
     "metadata": {},
     "output_type": "execute_result"
    }
   ],
   "source": [
    "query_rag(\"Who has the most experience in software development?\")  ##Has hallucinated Surabhi's and Nakshatra's projects are mentioned in the generated answer"
   ]
  },
  {
   "cell_type": "code",
   "execution_count": 25,
   "id": "922d691d",
   "metadata": {},
   "outputs": [
    {
     "name": "stdout",
     "output_type": "stream",
     "text": [
      "🧠 Response:\n",
      " The candidate who appears to have experience in both front-end and back-end development is Sadhana Jayakumar (Resume_id: Sadhana_Jayakumar_Resume.pdf). This is based on the following details in her resume:\n",
      "\n",
      "   - Front-end skills: She has worked with ReactJS, Express.js(Node.js), Bootstrap, BackboneJS, and has a good understanding of JavaScript, TypeScript, and the Spotify Web API.\n",
      "   - Back-end skills: She has experience in using Node.js for server-side logic, MongoDB for data storage and management, and Google Firebase for handling user information.\n",
      "\n",
      "   Nakshatra Gopi's resume focuses more on supply chain solutions consulting, and Surabhi's resume contains projects related to optimization models and machine learning, but there is no clear mention of front-end or back-end development experience in these resumes.\n",
      "\n",
      "📄 Sources: ['Sadhana_Jayakumar_Resume.pdf:Sadhana_Jayakumar_Resume.pdf:0:9', 'Sadhana_Jayakumar_Resume.pdf:Sadhana_Jayakumar_Resume.pdf:0:6', 'Sadhana_Jayakumar_Resume.pdf:Sadhana_Jayakumar_Resume.pdf:0:8', 'Sadhana_Jayakumar_Resume.pdf:Sadhana_Jayakumar_Resume.pdf:0:5', 'Nakshatra_Gopi_2024.pdf:Nakshatra_Gopi_2024.pdf:0:0', 'Surabhi-resume.pdf:Surabhi-resume.pdf:0:3', 'Surabhi-resume.pdf:Surabhi-resume.pdf:0:2', 'Sadhana_Jayakumar_Resume.pdf:Sadhana_Jayakumar_Resume.pdf:0:4']\n"
     ]
    },
    {
     "data": {
      "text/plain": [
       "\" The candidate who appears to have experience in both front-end and back-end development is Sadhana Jayakumar (Resume_id: Sadhana_Jayakumar_Resume.pdf). This is based on the following details in her resume:\\n\\n   - Front-end skills: She has worked with ReactJS, Express.js(Node.js), Bootstrap, BackboneJS, and has a good understanding of JavaScript, TypeScript, and the Spotify Web API.\\n   - Back-end skills: She has experience in using Node.js for server-side logic, MongoDB for data storage and management, and Google Firebase for handling user information.\\n\\n   Nakshatra Gopi's resume focuses more on supply chain solutions consulting, and Surabhi's resume contains projects related to optimization models and machine learning, but there is no clear mention of front-end or back-end development experience in these resumes.\""
      ]
     },
     "execution_count": 25,
     "metadata": {},
     "output_type": "execute_result"
    }
   ],
   "source": [
    "query_rag(\"Which candidate is the most suitable for building front end and back end of a website?\")"
   ]
  },
  {
   "cell_type": "code",
   "execution_count": 20,
   "id": "6f93dec8",
   "metadata": {},
   "outputs": [
    {
     "name": "stdout",
     "output_type": "stream",
     "text": [
      "🧠 Response:\n",
      " The name of the individual who works at Cisco can be found in the resume with the ID \"Sadhana_Jayakumar_Resume.pdf\". The candidate named Sadhana Jayakumar is currently employed as a Software Engineer II at Cisco.\n",
      "\n",
      "📄 Sources: ['Nakshatra_Gopi_2024.pdf:Nakshatra_Gopi_2024.pdf:0:0', 'Surabhi-resume.pdf:Surabhi-resume.pdf:0:0', 'Sadhana_Jayakumar_Resume.pdf:Sadhana_Jayakumar_Resume.pdf:0:6', 'Sadhana_Jayakumar_Resume.pdf:Sadhana_Jayakumar_Resume.pdf:0:1', 'Sadhana_Jayakumar_Resume.pdf:Sadhana_Jayakumar_Resume.pdf:0:3', 'Surabhi-resume.pdf:Surabhi-resume.pdf:0:2', 'Sadhana_Jayakumar_Resume.pdf:Sadhana_Jayakumar_Resume.pdf:0:2', 'Sadhana_Jayakumar_Resume.pdf:Sadhana_Jayakumar_Resume.pdf:0:5']\n"
     ]
    },
    {
     "data": {
      "text/plain": [
       "' The name of the individual who works at Cisco can be found in the resume with the ID \"Sadhana_Jayakumar_Resume.pdf\". The candidate named Sadhana Jayakumar is currently employed as a Software Engineer II at Cisco.'"
      ]
     },
     "execution_count": 20,
     "metadata": {},
     "output_type": "execute_result"
    }
   ],
   "source": [
    "query_rag(\"What is the name of individual who works at Cisco?\")"
   ]
  },
  {
   "cell_type": "code",
   "execution_count": 26,
   "id": "48e2a714",
   "metadata": {},
   "outputs": [
    {
     "name": "stdout",
     "output_type": "stream",
     "text": [
      "🧠 Response:\n",
      " Candidate with the information requested for a Supply chain role would be \"Sadhana Jayakumar\" (Resume_id: Sadhana_Jayakumar_Resume.pdf) as she has experience in developing automated end-to-end testing frameworks using Selenium and Python, which is crucial in ensuring comprehensive test coverage and significantly improving system reliability and performance, attributes essential for supply chain roles that require quality assurance and process optimization. Additionally, her work on developing new features for TCNAC, focusing on introducing a new node when the primary node goes down, highlights her understanding of system resilience and uptime, critical aspects in supply chain operations to ensure minimal disruptions.\n",
      "\n",
      "📄 Sources: ['Nakshatra_Gopi_2024.pdf:Nakshatra_Gopi_2024.pdf:0:0', 'Nakshatra_Gopi_2024.pdf:Nakshatra_Gopi_2024.pdf:0:3', 'Sadhana_Jayakumar_Resume.pdf:Sadhana_Jayakumar_Resume.pdf:0:1', 'Surabhi-resume.pdf:Surabhi-resume.pdf:0:3', 'Surabhi-resume.pdf:Surabhi-resume.pdf:0:0', 'Sadhana_Jayakumar_Resume.pdf:Sadhana_Jayakumar_Resume.pdf:0:6', 'Surabhi-resume.pdf:Surabhi-resume.pdf:0:2', 'Sadhana_Jayakumar_Resume.pdf:Sadhana_Jayakumar_Resume.pdf:0:3']\n"
     ]
    },
    {
     "data": {
      "text/plain": [
       "' Candidate with the information requested for a Supply chain role would be \"Sadhana Jayakumar\" (Resume_id: Sadhana_Jayakumar_Resume.pdf) as she has experience in developing automated end-to-end testing frameworks using Selenium and Python, which is crucial in ensuring comprehensive test coverage and significantly improving system reliability and performance, attributes essential for supply chain roles that require quality assurance and process optimization. Additionally, her work on developing new features for TCNAC, focusing on introducing a new node when the primary node goes down, highlights her understanding of system resilience and uptime, critical aspects in supply chain operations to ensure minimal disruptions.'"
      ]
     },
     "execution_count": 26,
     "metadata": {},
     "output_type": "execute_result"
    }
   ],
   "source": [
    "query_rag(\"Who would be most eligible for a Supply chain role?\")"
   ]
  },
  {
   "cell_type": "code",
   "execution_count": 27,
   "id": "0b2b104e",
   "metadata": {},
   "outputs": [
    {
     "name": "stdout",
     "output_type": "stream",
     "text": [
      "🧠 Response:\n",
      " The information about supply chain solutions consulting can be found for Candidate Nakshatra Gopi (Resume_id: Nakshatra_Gopi_2024.pdf). In this resume, it's stated that Nakshatra Gopi has work experience as a Business Operations Specialist at o9 Solutions Bangalore where he translated complex business requirements into scalable solutions for supply chain solutions consulting.\n",
      "\n",
      "📄 Sources: ['Nakshatra_Gopi_2024.pdf:Nakshatra_Gopi_2024.pdf:0:0', 'Surabhi-resume.pdf:Surabhi-resume.pdf:0:2', 'Surabhi-resume.pdf:Surabhi-resume.pdf:0:1', 'Sadhana_Jayakumar_Resume.pdf:Sadhana_Jayakumar_Resume.pdf:0:6', 'Sadhana_Jayakumar_Resume.pdf:Sadhana_Jayakumar_Resume.pdf:0:2', 'Surabhi-resume.pdf:Surabhi-resume.pdf:0:0', 'Surabhi-resume.pdf:Surabhi-resume.pdf:0:3', 'Nakshatra_Gopi_2024.pdf:Nakshatra_Gopi_2024.pdf:0:1']\n"
     ]
    },
    {
     "data": {
      "text/plain": [
       "\" The information about supply chain solutions consulting can be found for Candidate Nakshatra Gopi (Resume_id: Nakshatra_Gopi_2024.pdf). In this resume, it's stated that Nakshatra Gopi has work experience as a Business Operations Specialist at o9 Solutions Bangalore where he translated complex business requirements into scalable solutions for supply chain solutions consulting.\""
      ]
     },
     "execution_count": 27,
     "metadata": {},
     "output_type": "execute_result"
    }
   ],
   "source": [
    "query_rag(\"Who does supply chain solutions consulting?\")"
   ]
  },
  {
   "cell_type": "code",
   "execution_count": null,
   "id": "52e1c451",
   "metadata": {},
   "outputs": [],
   "source": [
    "embedding_function = get_embedding_function()\n",
    "db = Chroma(persist_directory=CHROMA_PATH, embedding_function=embedding_function)\n",
    "\n",
    "def query_rag_v2(query_text: str, k: int = 8):\n",
    "    # Load vector store\n",
    "    \n",
    "\n",
    "    # Step 1: Retrieve top-k chunks (more than we need for reranking)\n",
    "    results = db.similarity_search_with_score(query_text, k=k)\n",
    "    \n",
    "    # Step 4: Rerank results to get more relevant chunks\n",
    "    # Note: This requires installing sentence-transformers\n",
    "    try:\n",
    "        reranked_results = rerank_results(query_text, results, top_k=5)\n",
    "        print(f\"✅ Reranked results from {len(results)} to {len(reranked_results)}\")\n",
    "    except Exception as e:\n",
    "        print(f\"⚠️ Reranking failed: {e}. Using original results.\")\n",
    "        reranked_results = results[:5]  # Fallback to top 5 from original results\n",
    "    \n",
    "    # Step 3: Group chunks by resume for better context\n",
    "    context_text = group_chunks_by_resume(reranked_results)\n",
    "\n",
    "    # Create prompt\n",
    "    prompt = ChatPromptTemplate.from_template(PROMPT_TEMPLATE).format(\n",
    "        context=context_text, question=query_text\n",
    "    )\n",
    "\n",
    "    # Generate answer with Ollama\n",
    "    model = Ollama(model=\"mistral\")\n",
    "    response = model.invoke(prompt)\n",
    "\n",
    "    # Show sources with resume_id for better debugging\n",
    "    sources = [f\"{doc.metadata.get('resume_id', 'unknown')}:{doc.metadata.get('id', None)}\" \n",
    "               for doc, _ in reranked_results]\n",
    "    print(f\"🧠 Response:\\n{response}\\n\\n📄 Sources: {sources}\")\n",
    "    return response"
   ]
  },
  {
   "cell_type": "code",
   "execution_count": 29,
   "id": "2489a85b",
   "metadata": {},
   "outputs": [
    {
     "name": "stderr",
     "output_type": "stream",
     "text": [
      "c:\\Users\\psura\\OneDrive\\Documents\\RAG-projects\\rag-project\\rag-env\\Lib\\site-packages\\huggingface_hub\\file_download.py:144: UserWarning: `huggingface_hub` cache-system uses symlinks by default to efficiently store duplicated files but your machine does not support them in C:\\Users\\psura\\.cache\\huggingface\\hub\\models--cross-encoder--ms-marco-MiniLM-L-6-v2. Caching files will still work but in a degraded version that might require more space on your disk. This warning can be disabled by setting the `HF_HUB_DISABLE_SYMLINKS_WARNING` environment variable. For more details, see https://huggingface.co/docs/huggingface_hub/how-to-cache#limitations.\n",
      "To support symlinks on Windows, you either need to activate Developer Mode or to run Python as an administrator. In order to activate developer mode, see this article: https://docs.microsoft.com/en-us/windows/apps/get-started/enable-your-device-for-development\n",
      "  warnings.warn(message)\n"
     ]
    },
    {
     "name": "stdout",
     "output_type": "stream",
     "text": [
      "✅ Reranked results from 8 to 5\n",
      "🧠 Response:\n",
      " The resume with information that seems most relevant for a Supply chain role is **resumee_id: Nakshatra_Gopi_2024.pdf**. The candidate, Nakshatra Gopi, has experience as a Business Operations Specialist at o9 Solutions Bangalore, where he worked on optimizing operational efficiency of clients in the supply chain sector. This practical experience combined with his education in Electrical and Electronics Engineering might make him a strong fit for a Supply chain role.\n",
      "\n",
      "📄 Sources: ['Nakshatra_Gopi_2024.pdf:Nakshatra_Gopi_2024.pdf:0:0', 'Nakshatra_Gopi_2024.pdf:Nakshatra_Gopi_2024.pdf:0:3', 'Sadhana_Jayakumar_Resume.pdf:Sadhana_Jayakumar_Resume.pdf:0:3', 'Surabhi-resume.pdf:Surabhi-resume.pdf:0:0', 'Surabhi-resume.pdf:Surabhi-resume.pdf:0:2']\n"
     ]
    },
    {
     "data": {
      "text/plain": [
       "' The resume with information that seems most relevant for a Supply chain role is **resumee_id: Nakshatra_Gopi_2024.pdf**. The candidate, Nakshatra Gopi, has experience as a Business Operations Specialist at o9 Solutions Bangalore, where he worked on optimizing operational efficiency of clients in the supply chain sector. This practical experience combined with his education in Electrical and Electronics Engineering might make him a strong fit for a Supply chain role.'"
      ]
     },
     "execution_count": 29,
     "metadata": {},
     "output_type": "execute_result"
    }
   ],
   "source": [
    "query_rag_v2(\"Who would be most eligible for a Supply chain role?\")"
   ]
  },
  {
   "cell_type": "code",
   "execution_count": 32,
   "id": "a4f99355",
   "metadata": {},
   "outputs": [
    {
     "name": "stdout",
     "output_type": "stream",
     "text": [
      "✅ Reranked results from 8 to 5\n",
      "['===== RESUME: Nakshatra_Gopi_2024.pdf =====\\nNakshatra Gopi\\n♂¶obile-alt9360205861 • /envel⌢penakshatragopi2001@gmail.com • /gl⌢be-americaslinkedin.com/in/nakshatra-gopi\\nEducation\\nNational Institute of Technology Karnataka Surathkal, India\\nBachelor of Technology in Electrical and Electronics Engineering, CGPA: 8.14/10 2019 - 2023\\nWork Experience\\no9 Solutions Bangalore\\nBusiness Operations Specialist, Supply Chain Solutions Consulting May 2023 - Present\\n○ Translated complex business requirements into scalable solutions, enhancing operational efficiency and data-driven\\ndecision-making for the clients.\\n○ Developed assortment planning and store clustering solutions to optimize operational efficiency of a Fortune 500 Retailer.\\n○ Fostered seamless data flow and user access control for a Fortune 500 client post an M&A.\\n---\\n○ Developed customized commercial planning workflows, KPIs, and dashboards to enable actionable insights and strategic\\nplanning for a leading fast-fashion retailer.\\nTRESA Energy, Machani Groups Bangalore (Electric Vehicle startup)\\nIntern, Electronics Team May-June 2022\\n○ Conducted literature survey on existing Battery Management technology.\\n○ Designed a current monitor circuit, compared Hall-effect sensor and shunt resistor topologies.\\nProjects\\nLSTM based Parameter Prediction for Batteries Supervisor: Dr. Debashisha Jena, NITK\\nDeep Learning / MATLAB / Python September-December 2021\\n○ Used LSTM RNN to predict the battery state of charge parameters for an electric vehicle battery.\\nFeature Extraction through Scale Invariant Feature Transform\\nImage Processing / Python September-November 2021\\n===== END RESUME: Nakshatra_Gopi_2024.pdf =====\\n', '===== RESUME: Sadhana_Jayakumar_Resume.pdf =====\\nprogress\\n \\nacross\\n \\nall\\n \\nnodes\\n \\nin\\n \\nISE,\\n \\nwhile\\n \\ncollaborating\\n \\nwith\\n \\ncross-functional\\n \\nteams\\n \\nto\\n \\nensure\\n \\nseamless\\n \\nintegration\\n \\nand\\n \\nresolution\\n \\nof\\n \\ncomplex\\n \\ntechnical\\n \\nchallenges.\\n -  Developed  automated  end-to-end  testing  frameworks  using  Selenium  and  Python,  writing  unit  tests  for  the  code  and  ensuring  \\ncomprehensive\\n \\ntest\\n \\ncoverage,\\n \\nsignificantly\\n \\nimproving\\n \\nsystem\\n \\nreliability\\n \\nand\\n \\nperformance.\\n -  Leading  and  mentoring  a  team  of  4  engineers  in  delivering  a  new  feature  in  TCNAC ,  implementing  a  solution  to  introduce  a  \\nnew\\n \\nnode\\n \\nwhen\\n \\nthe\\n \\nprimary\\n \\nnode\\n \\ngoes\\n \\ndown,\\n \\nensuring\\n \\nenhanced\\n \\nsystem\\n \\nresilience\\n \\nand\\n \\nuptime.\\n---\\nseamless\\n \\nshopping\\n \\nexperience.\\n -  Payment  Integration:  Utilized  Stripe  API  to  generate  a  secure  payment  gateway.  -  Implemented  server-side  logic  using  Node.js  and  Express.js,  ensuring  efficient  data  processing  and  management  and  handled  \\nthe\\n \\ndatabase\\n \\nand\\n \\nuser\\n \\ninformation\\n \\nwith\\n \\nGoogle\\n \\nFirebase.\\n \\n  Optimization  of  EV  Battery  Swapping  Stations  using  Machine  Learning  Models                                      Link  to  GitHub  repository                -  Developed  optimization  models  for  EV  battery  swapping  stations  using  Particle  Swarm  Optimization,  Firefly  Algorithm,  and  \\nGenetic\\n \\nAlgorithm.\\n===== END RESUME: Sadhana_Jayakumar_Resume.pdf =====\\n', '===== RESUME: Surabhi-resume.pdf =====\\nSurabhi Pachpande\\n♂¶obile-alt+91-7977669861 • /envel⌢pepsurabhi1303@gmail.com\\n/gl⌢be-americashttps://www.linkedin.com/in/surabhi-pachpande-3b83611a7/ • github.com/SurabhiP13\\nEducation\\nNational Institute of Technology Karnataka Surathkal Surathkal, India\\nBachelor of Technology in Electrical and Electronics Engineering, CGPA: 8.32/10 2019 - 2023\\nWork Experience\\nData Science Consultant, Wells Fargo Jun 2023 - Present\\n○ Automated model performance tracking, ensuring timely population and variable drift detection and saving 22 workdays-180\\nhours annually.\\n○ Designed and implemented an automated system for anomaly detection in time series data using ARIMA, improving\\noperational efficiency and saving ˜520 hours annually.\\n===== END RESUME: Surabhi-resume.pdf =====\\n']\n",
      "🧠 Response:\n",
      " The candidate who works in supply chain is Nakshatra Gopi (resume_id: Nakshatra_Gopi_2024.pdf). He is currently a Business Operations Specialist at o9 Solutions Bangalore where he works on Supply Chain Solutions Consulting.\n",
      "\n",
      "📄 Sources: ['Nakshatra_Gopi_2024.pdf:Nakshatra_Gopi_2024.pdf:0:0', 'Nakshatra_Gopi_2024.pdf:Nakshatra_Gopi_2024.pdf:0:1', 'Sadhana_Jayakumar_Resume.pdf:Sadhana_Jayakumar_Resume.pdf:0:3', 'Sadhana_Jayakumar_Resume.pdf:Sadhana_Jayakumar_Resume.pdf:0:6', 'Surabhi-resume.pdf:Surabhi-resume.pdf:0:0']\n"
     ]
    },
    {
     "data": {
      "text/plain": [
       "' The candidate who works in supply chain is Nakshatra Gopi (resume_id: Nakshatra_Gopi_2024.pdf). He is currently a Business Operations Specialist at o9 Solutions Bangalore where he works on Supply Chain Solutions Consulting.'"
      ]
     },
     "execution_count": 32,
     "metadata": {},
     "output_type": "execute_result"
    }
   ],
   "source": [
    "query_rag_v2(\"Who works in supply chain?\")"
   ]
  },
  {
   "cell_type": "code",
   "execution_count": null,
   "id": "c289d1bd",
   "metadata": {},
   "outputs": [
    {
     "name": "stdout",
     "output_type": "stream",
     "text": [
      "✅ Reranked results from 8 to 5\n",
      "['===== RESUME: Sadhana_Jayakumar_Resume.pdf =====\\nEDUCATION                Bachelor  of  Technology,  Electrical  and  Electronics  Engineering                                                                                            2019-2023  National  Institute  of  Technology  Karnataka  -   CGPA:  8.5  /10   AISSCE,  CBSE,  Class  XII                                                                                                                                                          2018-2019  Indian  School  Sohar,  Sultanate  of  Oman  -  Percentage:  92%   WORK  EXPERIENCE     Software  Engineer  II  -  CISCO                                                                                                                                      Aug  2023  -  Present  -  Part  of  the  Certificates  Management  team  within\\n---\\nthe\\n \\nSpotify\\n \\nWeb\\n \\nAPI.\\n -  Managed  data  storage  and  user  information  securely  and  efficiently  using  MongoDB.                                                                                                          TECHNICAL  SKILLS               -  Languages:  C++,  C,  Java,  Python,  JavaScript,  TypeScript  -  Web  Development  Tools  and  Frameworks:  ReactJS,  Express.js(Node.js),  Bootstrap,  BackboneJS,  MongoDB,  Firebase  \\n-\\n \\nTesting\\n \\nFrameworks:\\n \\nSelenium,\\n \\nPowerMockito,\\n \\nMockito,\\n \\nJest\\n===== END RESUME: Sadhana_Jayakumar_Resume.pdf =====\\n', '===== RESUME: Nakshatra_Gopi_2024.pdf =====\\nPositions of Responsibilities\\n○ Secretary at IEEE NITK Student Chapter, 2022-23\\n○ Member of Women’s Basketball Team NITK, Winners of Inter-NIT 2020, Inter-NIT 2023, RAAGAM 2023\\n○ Treasurer at IEEE NITK Student Chapter, 2021-22\\n○ Joint-Convener of SLAM DUNK, national inter-collegiate basketball tournament hosted by NITK, 2021-22\\n○ Head of the Debate Society at Literature, Stage and Debate Society, NITK, 2021-22\\nVolunteer Experience\\n○ Grew outreach for local weaver communities in Bangalore with thesilkage.in (2020)\\n○ Sales and Development Executive at PSUP (Peer Support) Communities, Surathkal(2020)\\n○ Taught self-defense and interpersonal skills at CENDECT Theni, Tamil Nadu, a rural welfare organization (2018)\\n===== END RESUME: Nakshatra_Gopi_2024.pdf =====\\n', '===== RESUME: Surabhi-resume.pdf =====\\nSurabhi Pachpande\\n♂¶obile-alt+91-7977669861 • /envel⌢pepsurabhi1303@gmail.com\\n/gl⌢be-americashttps://www.linkedin.com/in/surabhi-pachpande-3b83611a7/ • github.com/SurabhiP13\\nEducation\\nNational Institute of Technology Karnataka Surathkal Surathkal, India\\nBachelor of Technology in Electrical and Electronics Engineering, CGPA: 8.32/10 2019 - 2023\\nWork Experience\\nData Science Consultant, Wells Fargo Jun 2023 - Present\\n○ Automated model performance tracking, ensuring timely population and variable drift detection and saving 22 workdays-180\\nhours annually.\\n○ Designed and implemented an automated system for anomaly detection in time series data using ARIMA, improving\\noperational efficiency and saving ˜520 hours annually.\\n---\\noperational efficiency and saving ˜520 hours annually.\\n○ Analyzing the impact of in-call advertisements on customer activation of the bank’s mobile app using causal inference\\ntechniques to optimize engagement strategies.\\n○ Identified operational inefficiencies of Call Centres by analyzing call transcripts to detect premature payment promises and\\nenabled real-time Agent performance insights, reducing losses and improving agent training strategies.\\n○ Delivered talks on NLP techniques, including topic modeling, word embeddings, and classification models, as well as\\nfoundational practices for Exploratory Data Analysis (EDA).\\nData Analyst Intern, Wells Fargo May - Jul 2022\\n○ Analyzed customer data to identify those affected by natural disasters in the USA by developing rules based on disaster\\n===== END RESUME: Surabhi-resume.pdf =====\\n']\n",
      "🧠 Response:\n",
      " The information requested about technical skills, such as languages and tools, can be found in the resume with the ID \"Sadhana_Jayakumar_Resume.pdf\". Here are the technical skills mentioned for candidate Sadhana Jayakumar:\n",
      "- Languages: C++, C, Java, Python, JavaScript, TypeScript\n",
      "- Web Development Tools and Frameworks: ReactJS, Express.js(Node.js), Bootstrap, BackboneJS, MongoDB, Firebase\n",
      "- Testing Frameworks: Selenium, PowerMockito, Mockito, Jest\n",
      "\n",
      "📄 Sources: ['Sadhana_Jayakumar_Resume.pdf:Sadhana_Jayakumar_Resume.pdf:0:1', 'Nakshatra_Gopi_2024.pdf:Nakshatra_Gopi_2024.pdf:0:3', 'Surabhi-resume.pdf:Surabhi-resume.pdf:0:0', 'Surabhi-resume.pdf:Surabhi-resume.pdf:0:1', 'Sadhana_Jayakumar_Resume.pdf:Sadhana_Jayakumar_Resume.pdf:0:9']\n"
     ]
    },
    {
     "data": {
      "text/plain": [
       "' The information requested about technical skills, such as languages and tools, can be found in the resume with the ID \"Sadhana_Jayakumar_Resume.pdf\". Here are the technical skills mentioned for candidate Sadhana Jayakumar:\\n- Languages: C++, C, Java, Python, JavaScript, TypeScript\\n- Web Development Tools and Frameworks: ReactJS, Express.js(Node.js), Bootstrap, BackboneJS, MongoDB, Firebase\\n- Testing Frameworks: Selenium, PowerMockito, Mockito, Jest'"
      ]
     },
     "execution_count": 33,
     "metadata": {},
     "output_type": "execute_result"
    }
   ],
   "source": [
    "query_rag_v2(\"How many resumes do you have?\") #Hallucinating"
   ]
  },
  {
   "cell_type": "code",
   "execution_count": null,
   "id": "49fba17b",
   "metadata": {},
   "outputs": [
    {
     "name": "stdout",
     "output_type": "stream",
     "text": [
      "✅ Reranked results from 8 to 5\n",
      "['===== RESUME: Sadhana_Jayakumar_Resume.pdf =====\\nEDUCATION                Bachelor  of  Technology,  Electrical  and  Electronics  Engineering                                                                                            2019-2023  National  Institute  of  Technology  Karnataka  -   CGPA:  8.5  /10   AISSCE,  CBSE,  Class  XII                                                                                                                                                          2018-2019  Indian  School  Sohar,  Sultanate  of  Oman  -  Percentage:  92%   WORK  EXPERIENCE     Software  Engineer  II  -  CISCO                                                                                                                                      Aug  2023  -  Present  -  Part  of  the  Certificates  Management  team  within\\n===== END RESUME: Sadhana_Jayakumar_Resume.pdf =====\\n', '===== RESUME: Surabhi-resume.pdf =====\\nSurabhi Pachpande\\n♂¶obile-alt+91-7977669861 • /envel⌢pepsurabhi1303@gmail.com\\n/gl⌢be-americashttps://www.linkedin.com/in/surabhi-pachpande-3b83611a7/ • github.com/SurabhiP13\\nEducation\\nNational Institute of Technology Karnataka Surathkal Surathkal, India\\nBachelor of Technology in Electrical and Electronics Engineering, CGPA: 8.32/10 2019 - 2023\\nWork Experience\\nData Science Consultant, Wells Fargo Jun 2023 - Present\\n○ Automated model performance tracking, ensuring timely population and variable drift detection and saving 22 workdays-180\\nhours annually.\\n○ Designed and implemented an automated system for anomaly detection in time series data using ARIMA, improving\\noperational efficiency and saving ˜520 hours annually.\\n---\\noperational efficiency and saving ˜520 hours annually.\\n○ Analyzing the impact of in-call advertisements on customer activation of the bank’s mobile app using causal inference\\ntechniques to optimize engagement strategies.\\n○ Identified operational inefficiencies of Call Centres by analyzing call transcripts to detect premature payment promises and\\nenabled real-time Agent performance insights, reducing losses and improving agent training strategies.\\n○ Delivered talks on NLP techniques, including topic modeling, word embeddings, and classification models, as well as\\nfoundational practices for Exploratory Data Analysis (EDA).\\nData Analyst Intern, Wells Fargo May - Jul 2022\\n○ Analyzed customer data to identify those affected by natural disasters in the USA by developing rules based on disaster\\n---\\ntype, affected regions, and timelines. Designed an interactive dashboard using Plotly to present insights, enabling the\\nreversal of fees for impacted customers and improving customer satisfaction.\\nProjects\\nCodeforces Problem Recommender Project Link Here\\nJuly 2022\\n○ Extracting historical user data using CodeForces API and using Matrix Factorization to recommend problems to the user.\\n○ Tools Used: Python, Pandas\\nCOVID Detection Using Cough Samples Project Link Here\\nApril 2022\\n○ Developed an XGBoost-based classification model to differentiate between COVID and non-COVID cases using cough audio samples,\\nenabling efficient and non-invasive diagnosis.\\n○ Tools Used: python, numpy, pandas, sklearn\\nAn Optimization Model for EV Charging Project Link Here\\nFebruary 2023\\n===== END RESUME: Surabhi-resume.pdf =====\\n', '===== RESUME: Nakshatra_Gopi_2024.pdf =====\\nNakshatra Gopi\\n♂¶obile-alt9360205861 • /envel⌢penakshatragopi2001@gmail.com • /gl⌢be-americaslinkedin.com/in/nakshatra-gopi\\nEducation\\nNational Institute of Technology Karnataka Surathkal, India\\nBachelor of Technology in Electrical and Electronics Engineering, CGPA: 8.14/10 2019 - 2023\\nWork Experience\\no9 Solutions Bangalore\\nBusiness Operations Specialist, Supply Chain Solutions Consulting May 2023 - Present\\n○ Translated complex business requirements into scalable solutions, enhancing operational efficiency and data-driven\\ndecision-making for the clients.\\n○ Developed assortment planning and store clustering solutions to optimize operational efficiency of a Fortune 500 Retailer.\\n○ Fostered seamless data flow and user access control for a Fortune 500 client post an M&A.\\n===== END RESUME: Nakshatra_Gopi_2024.pdf =====\\n']\n",
      "🧠 Response:\n",
      " The information requested was about a candidate who worked as a Data Science Consultant at Wells Fargo. According to the resumes provided, the candidate \"Surabhi Pachpande\" fits this description. Therefore, the resume containing the information requested is \"Surabhi-resume.pdf\".\n",
      "\n",
      "📄 Sources: ['Sadhana_Jayakumar_Resume.pdf:Sadhana_Jayakumar_Resume.pdf:0:1', 'Surabhi-resume.pdf:Surabhi-resume.pdf:0:0', 'Surabhi-resume.pdf:Surabhi-resume.pdf:0:1', 'Surabhi-resume.pdf:Surabhi-resume.pdf:0:2', 'Nakshatra_Gopi_2024.pdf:Nakshatra_Gopi_2024.pdf:0:0']\n"
     ]
    },
    {
     "data": {
      "text/plain": [
       "' The information requested was about a candidate who worked as a Data Science Consultant at Wells Fargo. According to the resumes provided, the candidate \"Surabhi Pachpande\" fits this description. Therefore, the resume containing the information requested is \"Surabhi-resume.pdf\".'"
      ]
     },
     "execution_count": 34,
     "metadata": {},
     "output_type": "execute_result"
    }
   ],
   "source": [
    "query_rag_v2(\"How many CVs do you have?\") #Hallucinating"
   ]
  },
  {
   "cell_type": "code",
   "execution_count": 16,
   "id": "6be1f8f1",
   "metadata": {},
   "outputs": [
    {
     "name": "stdout",
     "output_type": "stream",
     "text": [
      "✅ Reranked results from 8 to 5\n",
      "['===== RESUME: Sadhana_Jayakumar_Resume.pdf =====\\nnode\\n \\ngoes\\n \\ndown,\\n \\nensuring\\n \\nenhanced\\n \\nsystem\\n \\nresilience\\n \\nand\\n \\nuptime.\\n  Software  Engineering  Intern-  MICROSOFT  India                                                                                                May  2022-  July  2022  -  Developed  a  React-based  component  to  enhance  toast  notifications,  improving  user  experience  and  interface  consistency.  -  Redesigned  the  Excel-Online  scrollbar  to  align  with  the  new  Office  scrollbar  design,  ensuring  a  cohesive  look  across  \\nplatforms.\\n -  Designed  and  implemented  a  user  interface  for  the  name  box  component  to  gracefully  manage  and  display  messages  during  \\ndata\\n \\nunavailability.\\n---\\nprogress\\n \\nacross\\n \\nall\\n \\nnodes\\n \\nin\\n \\nISE,\\n \\nwhile\\n \\ncollaborating\\n \\nwith\\n \\ncross-functional\\n \\nteams\\n \\nto\\n \\nensure\\n \\nseamless\\n \\nintegration\\n \\nand\\n \\nresolution\\n \\nof\\n \\ncomplex\\n \\ntechnical\\n \\nchallenges.\\n -  Developed  automated  end-to-end  testing  frameworks  using  Selenium  and  Python,  writing  unit  tests  for  the  code  and  ensuring  \\ncomprehensive\\n \\ntest\\n \\ncoverage,\\n \\nsignificantly\\n \\nimproving\\n \\nsystem\\n \\nreliability\\n \\nand\\n \\nperformance.\\n -  Leading  and  mentoring  a  team  of  4  engineers  in  delivering  a  new  feature  in  TCNAC ,  implementing  a  solution  to  introduce  a  \\nnew\\n \\nnode\\n \\nwhen\\n \\nthe\\n \\nprimary\\n \\nnode\\n \\ngoes\\n \\ndown,\\n \\nensuring\\n \\nenhanced\\n \\nsystem\\n \\nresilience\\n \\nand\\n \\nuptime.\\n---\\nthe\\n \\nSpotify\\n \\nWeb\\n \\nAPI.\\n -  Managed  data  storage  and  user  information  securely  and  efficiently  using  MongoDB.                                                                                                          TECHNICAL  SKILLS               -  Languages:  C++,  C,  Java,  Python,  JavaScript,  TypeScript  -  Web  Development  Tools  and  Frameworks:  ReactJS,  Express.js(Node.js),  Bootstrap,  BackboneJS,  MongoDB,  Firebase  \\n-\\n \\nTesting\\n \\nFrameworks:\\n \\nSelenium,\\n \\nPowerMockito,\\n \\nMockito,\\n \\nJest\\n===== END RESUME: Sadhana_Jayakumar_Resume.pdf =====\\n', '===== RESUME: Nakshatra_Gopi_2024.pdf =====\\nNakshatra Gopi\\n♂¶obile-alt9360205861 • /envel⌢penakshatragopi2001@gmail.com • /gl⌢be-americaslinkedin.com/in/nakshatra-gopi\\nEducation\\nNational Institute of Technology Karnataka Surathkal, India\\nBachelor of Technology in Electrical and Electronics Engineering, CGPA: 8.14/10 2019 - 2023\\nWork Experience\\no9 Solutions Bangalore\\nBusiness Operations Specialist, Supply Chain Solutions Consulting May 2023 - Present\\n○ Translated complex business requirements into scalable solutions, enhancing operational efficiency and data-driven\\ndecision-making for the clients.\\n○ Developed assortment planning and store clustering solutions to optimize operational efficiency of a Fortune 500 Retailer.\\n○ Fostered seamless data flow and user access control for a Fortune 500 client post an M&A.\\n===== END RESUME: Nakshatra_Gopi_2024.pdf =====\\n', '===== RESUME: Surabhi-resume.pdf =====\\nSurabhi Pachpande\\n♂¶obile-alt+91-7977669861 • /envel⌢pepsurabhi1303@gmail.com\\n/gl⌢be-americashttps://www.linkedin.com/in/surabhi-pachpande-3b83611a7/ • github.com/SurabhiP13\\nEducation\\nNational Institute of Technology Karnataka Surathkal Surathkal, India\\nBachelor of Technology in Electrical and Electronics Engineering, CGPA: 8.32/10 2019 - 2023\\nWork Experience\\nData Science Consultant, Wells Fargo Jun 2023 - Present\\n○ Automated model performance tracking, ensuring timely population and variable drift detection and saving 22 workdays-180\\nhours annually.\\n○ Designed and implemented an automated system for anomaly detection in time series data using ARIMA, improving\\noperational efficiency and saving ˜520 hours annually.\\n===== END RESUME: Surabhi-resume.pdf =====\\n']\n",
      "🧠 Response:\n",
      " The information about an internship at Microsoft can be found in the resume with the ID \"Sadhana_Jayakumar_Resume.pdf\". Specifically, the candidate named Sadhana Jayakumar was a Software Engineering Intern at Microsoft India from May 2022 to July 2022.\n",
      "\n",
      "📄 Sources: ['Sadhana_Jayakumar_Resume.pdf:Sadhana_Jayakumar_Resume.pdf:0:4', 'Nakshatra_Gopi_2024.pdf:Nakshatra_Gopi_2024.pdf:0:0', 'Sadhana_Jayakumar_Resume.pdf:Sadhana_Jayakumar_Resume.pdf:0:3', 'Surabhi-resume.pdf:Surabhi-resume.pdf:0:0', 'Sadhana_Jayakumar_Resume.pdf:Sadhana_Jayakumar_Resume.pdf:0:9']\n"
     ]
    },
    {
     "data": {
      "text/plain": [
       "' The information about an internship at Microsoft can be found in the resume with the ID \"Sadhana_Jayakumar_Resume.pdf\". Specifically, the candidate named Sadhana Jayakumar was a Software Engineering Intern at Microsoft India from May 2022 to July 2022.'"
      ]
     },
     "execution_count": 16,
     "metadata": {},
     "output_type": "execute_result"
    }
   ],
   "source": [
    "query_rag_v2(\"Who has interned in Microsoft?\")"
   ]
  },
  {
   "cell_type": "code",
   "execution_count": null,
   "id": "4a3bb37a",
   "metadata": {},
   "outputs": [],
   "source": []
  }
 ],
 "metadata": {
  "kernelspec": {
   "display_name": "rag-env",
   "language": "python",
   "name": "python3"
  },
  "language_info": {
   "codemirror_mode": {
    "name": "ipython",
    "version": 3
   },
   "file_extension": ".py",
   "mimetype": "text/x-python",
   "name": "python",
   "nbconvert_exporter": "python",
   "pygments_lexer": "ipython3",
   "version": "3.12.4"
  }
 },
 "nbformat": 4,
 "nbformat_minor": 5
}
